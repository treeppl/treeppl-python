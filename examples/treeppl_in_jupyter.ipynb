{
 "cells": [
  {
   "cell_type": "markdown",
   "id": "46b031bc",
   "metadata": {},
   "source": [
    "# TreePPL in Jupyter: Writing and Running Programs"
   ]
  },
  {
   "cell_type": "code",
   "execution_count": null,
   "id": "6d5b713b",
   "metadata": {},
   "outputs": [],
   "source": [
    "import treeppl\n",
    "import numpy as np\n",
    "import pandas as pd\n",
    "import matplotlib.pyplot as plt\n",
    "import seaborn as sns\n",
    "from Bio import Phylo\n",
    "from IPython.display import clear_output\n",
    "\n",
    "sns.set_theme()"
   ]
  },
  {
   "cell_type": "markdown",
   "id": "6ef7f555",
   "metadata": {},
   "source": [
    "## Introduction"
   ]
  },
  {
   "cell_type": "markdown",
   "id": "f594b48b",
   "metadata": {},
   "source": [
    "Let’s load the TreePPL extension for Jupyter, which provides an easy-to-use interface for working with TreePPL directly within Jupyter notebooks:"
   ]
  },
  {
   "cell_type": "code",
   "execution_count": null,
   "id": "5e651d65",
   "metadata": {},
   "outputs": [],
   "source": [
    "%load_ext treeppl.ipython"
   ]
  },
  {
   "cell_type": "markdown",
   "id": "a67a0418",
   "metadata": {},
   "source": [
    "Once the extension is loaded, users can use the `%%treeppl` cell magic to write and compile a TreePPL program. Executing the cell creates a `treeppl.Model` object, which allows interaction with the compiled program directly in Python. This object is stored in a Python variable specified as an argument to the `%%treeppl` magic (i.e., immediately following `%%treeppl` on the first line). Optionally, the variable name can be followed by parameters and values. Most of these are passed to the TreePPL compiler, except for the `samples` parameter, which specifies the number of samples to draw when the program is executed. Examples are provided below.\n",
    "\n",
    "The extension also supports basic syntax highlighting for TreePPL programs.\n",
    "\n",
    "For example, the following cell demonstrates a simple TreePPL program for simulating the flip of a fair coin:"
   ]
  },
  {
   "cell_type": "code",
   "execution_count": null,
   "id": "ab637ba9",
   "metadata": {},
   "outputs": [],
   "source": [
    "%%treeppl flip samples=10\n",
    "\n",
    "model function flip() => Bool {\n",
    "  assume p ~ Bernoulli(0.5);\n",
    "  return p;\n",
    "}"
   ]
  },
  {
   "cell_type": "markdown",
   "id": "d71e9d44",
   "metadata": {},
   "source": [
    "In this example, a `treeppl.Model` instance is created, and the program is compiled. The variable name `flip` (specified after `%%treeppl`) provides an interface for interacting with the model. The argument `samples=10` specifies the number of samples to generate when the program is executed.\n",
    "\n",
    "To run the TreePPL program, simply call the variable as a function (e.g., `flip()`). This executes the program and returns a `treeppl.InferenceResult` object, which includes a `samples` attribute containing the generated samples. While samples may have different weights in more complex programs, they are equally weighted in this simple example. We will cover programs with weighted samples later.\n",
    "\n",
    "Here’s an example of how to use the compiled program:"
   ]
  },
  {
   "cell_type": "code",
   "execution_count": null,
   "id": "9723d4c9",
   "metadata": {},
   "outputs": [],
   "source": [
    "res = flip()\n",
    "res.samples"
   ]
  },
  {
   "cell_type": "markdown",
   "id": "1e839e5b",
   "metadata": {},
   "source": [
    "## Examples from the paper"
   ]
  },
  {
   "cell_type": "markdown",
   "id": "b94aeb1a",
   "metadata": {},
   "source": [
    "### Unfair coin"
   ]
  },
  {
   "cell_type": "code",
   "execution_count": null,
   "id": "63c759c4",
   "metadata": {},
   "outputs": [],
   "source": [
    "%%treeppl coin samples=100000\n",
    "\n",
    "model function coin(outcomes: Bool[]) => Real {\n",
    "  assume p ~ Uniform(0.0, 1.0);\n",
    "  for i in 1 to (length(outcomes)) {\n",
    "    observe outcomes[i] ~ Bernoulli(p);\n",
    "  }\n",
    "  return p;\n",
    "}"
   ]
  },
  {
   "cell_type": "code",
   "execution_count": null,
   "id": "9ba70f81",
   "metadata": {},
   "outputs": [],
   "source": [
    "res = coin(\n",
    "    outcomes=[\n",
    "        True, True, True, False, True, False, False, True, True, False,\n",
    "        False, False, True, False, True, False, False, False, False, False,\n",
    "    ]\n",
    ")\n",
    "sns.histplot(\n",
    "    x=res.samples, weights=res.nweights, bins=100, stat=\"density\", kde=True\n",
    ")"
   ]
  },
  {
   "cell_type": "markdown",
   "id": "20058493",
   "metadata": {},
   "source": [
    "## Generating a CRBD tree"
   ]
  },
  {
   "cell_type": "code",
   "execution_count": null,
   "id": "bfdfd6e1",
   "metadata": {},
   "outputs": [],
   "source": [
    "%%treeppl generative_crbd samples=1\n",
    "\n",
    "model function generativeCrbd(time: Real, lambda: Real, mu: Real) => Tree {\n",
    "  assume waitingTime ~ Exponential(lambda + mu);\n",
    "  let eventTime = time - waitingTime;\n",
    "  if eventTime < 0.0 {\n",
    "    return Leaf {age = 0.0};\n",
    "  } else {\n",
    "    assume isSpeciation ~ Bernoulli(lambda / (lambda + mu));\n",
    "    if isSpeciation {\n",
    "      return Node {\n",
    "        left = generativeCrbd(eventTime, lambda, mu),\n",
    "        right = generativeCrbd(eventTime, lambda, mu),\n",
    "        age = eventTime\n",
    "      };\n",
    "    } else {\n",
    "      return Leaf {age = eventTime};\n",
    "    }\n",
    "  }\n",
    "}"
   ]
  },
  {
   "cell_type": "code",
   "execution_count": null,
   "id": "983b47f7",
   "metadata": {},
   "outputs": [],
   "source": [
    "params = {\n",
    "    \"time\": 5.0,\n",
    "    \"lambda\": 1.0,\n",
    "    \"mu\": 0.1\n",
    "}\n",
    "\n",
    "result = generative_crbd(**params)\n",
    "tree = result.samples[0]\n",
    "tree = Phylo.BaseTree.Clade(\n",
    "    branch_length=params[\"time\"] - tree.age,\n",
    "    clades=[tree.to_biopython()]\n",
    ")\n",
    "Phylo.draw(tree)"
   ]
  },
  {
   "cell_type": "markdown",
   "id": "e91837c5",
   "metadata": {},
   "source": [
    "### Inferring parameters of a CRBD model"
   ]
  },
  {
   "cell_type": "code",
   "execution_count": null,
   "id": "cadcc8ec",
   "metadata": {},
   "outputs": [],
   "source": [
    "%%treeppl crbd samples=10000 subsamples=10\n",
    "\n",
    "function simulateExtinctSubtree(time: Real, lambda: Real, mu: Real) {\n",
    "  assume waitingTime ~ Exponential(lambda + mu);\n",
    "  if waitingTime > time {\n",
    "    weight 0.0; resample;\n",
    "  } else {\n",
    "    assume isSpeciation ~ Bernoulli(lambda / (lambda + mu));\n",
    "    if isSpeciation {\n",
    "      simulateExtinctSubtree(time - waitingTime, lambda, mu);\n",
    "      simulateExtinctSubtree(time - waitingTime, lambda, mu);\n",
    "    }\n",
    "  }\n",
    "}\n",
    "\n",
    "function simulateUnobservedSpeciations(node: Tree, time: Real, lambda: Real, mu: Real) {\n",
    "  assume waitingTime ~ Exponential(lambda);\n",
    "  if time - waitingTime > node.age {\n",
    "    simulateExtinctSubtree(time - waitingTime, lambda, mu);\n",
    "    weight 2.0;\n",
    "    simulateUnobservedSpeciations(node, time - waitingTime, lambda, mu);\n",
    "  }\n",
    "}\n",
    "\n",
    "function walk(node: Tree, time:Real, lambda: Real, mu: Real) {\n",
    "  simulateUnobservedSpeciations(node, time, lambda, mu);\n",
    "  observe 0 ~ Poisson(mu * (time - node.age));\n",
    "  if node is Node {\n",
    "    observe 0.0 ~ Exponential(lambda);\n",
    "    walk(node.left, node.age, lambda, mu);\n",
    "    walk(node.right, node.age, lambda, mu);\n",
    "  }\n",
    "}\n",
    "\n",
    "model function crbd(tree: Tree) => Real[] {\n",
    "  assume lambda ~ Gamma(1.0, 1.0);\n",
    "  assume mu ~ Gamma(1.0, 0.5);\n",
    "  walk(tree.left, tree.age, lambda, mu);\n",
    "  walk(tree.right, tree.age, lambda, mu);\n",
    "  return [lambda, mu];\n",
    "}"
   ]
  },
  {
   "cell_type": "code",
   "execution_count": null,
   "id": "00bfd918",
   "metadata": {
    "scrolled": false
   },
   "outputs": [],
   "source": [
    "alcedinidae = treeppl.Tree.load(\"trees/Alcedinidae.phyjson\", format=\"phyjson\")\n",
    "\n",
    "samples = None\n",
    "for i in range(1000):\n",
    "    try:\n",
    "        res = crbd(tree=alcedinidae)\n",
    "        samples = pd.concat([\n",
    "            samples,\n",
    "            pd.DataFrame({\n",
    "                \"lambda\": res.items(0), \"mu\": res.items(1), \"lweight\": res.norm_const\n",
    "            })\n",
    "        ])\n",
    "        weights = np.exp(samples.lweight - samples.lweight.max())\n",
    "        clear_output(wait=True)\n",
    "        sns.kdeplot(data=samples, x=\"lambda\", weights=weights)\n",
    "        sns.kdeplot(data=samples, x=\"mu\", weights=weights)\n",
    "        plt.xlim(0, 0.25)\n",
    "        plt.ylim(0, 50)\n",
    "        plt.pause(0.05)\n",
    "    except KeyboardInterrupt:\n",
    "        break"
   ]
  }
 ],
 "metadata": {
  "kernelspec": {
   "display_name": "Python 3 (ipykernel)",
   "language": "python",
   "name": "python3"
  },
  "language_info": {
   "codemirror_mode": {
    "name": "ipython",
    "version": 3
   },
   "file_extension": ".py",
   "mimetype": "text/x-python",
   "name": "python",
   "nbconvert_exporter": "python",
   "pygments_lexer": "ipython3",
   "version": "3.11.5"
  }
 },
 "nbformat": 4,
 "nbformat_minor": 5
}
